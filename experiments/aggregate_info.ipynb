{
 "cells": [
  {
   "cell_type": "code",
   "execution_count": null,
   "metadata": {},
   "outputs": [],
   "source": [
    "import numpy as np\n",
    "! pip install pandas\n",
    "import pandas as pd\n",
    "from scipy.stats import m"
   ]
  },
  {
   "cell_type": "code",
   "execution_count": null,
   "metadata": {},
   "outputs": [],
   "source": [
    "def calc_class_acc(model):\n",
    "    npz = np.load('../../results/train_{}_pred_label.pkl.npz'.format(model), allow_pickle=True)\n",
    "    model_l_p = npz['pred_label']\n",
    "    preds = []\n",
    "    labels = []\n",
    "    for pair in model_l_p:\n",
    "        pred = pair[0].tolist()\n",
    "        label = pair[1].tolist()\n",
    "        preds.extend(pred)\n",
    "        labels.extend(label)\n",
    "    preds = np.asarray(preds)\n",
    "    labels = np.asarray(labels)\n",
    "    cls_acc = {}\n",
    "    for i in range(10):\n",
    "        cls_acc[i] = np.sum(preds[labels == i] == i) / np.sum(labels == i)\n",
    "    return cls_acc"
   ]
  },
  {
   "cell_type": "code",
   "execution_count": null,
   "metadata": {},
   "outputs": [],
   "source": [
    "def calc_agg_acc(model):\n",
    "    npz = np.load('../../results/train_{}_pred_label.pkl.npz'.format(model), allow_pickle=True)\n",
    "    model_l_p = npz['pred_label']\n",
    "    preds = []\n",
    "    labels = []\n",
    "    for pair in model_l_p:\n",
    "        pred = pair[0].tolist()\n",
    "        label = pair[1].tolist()\n",
    "        img_name = pair[2].toList()\n",
    "        preds.extend(pred)\n",
    "        labels.extend(label)\n",
    "        img_names.extend(img_name)\n",
    "    preds = np.asarray(preds)\n",
    "    labels = np.asarray(labels)\n",
    "    cls_acc = {}\n",
    "    for i in range(10):\n",
    "        cls_acc[i] = np.sum(preds[labels == i] == i) / np.sum(labels == i)\n",
    "    return cls_acc"
   ]
  },
  {
   "cell_type": "code",
   "execution_count": null,
   "metadata": {},
   "outputs": [],
   "source": [
    "def calc_agg_by_file_acc(model):\n",
    "    npz = np.load('../../results/train_{}_pred_label.pkl.npz'.format(model), allow_pickle=True)\n",
    "    model_l_p = npz['pred_label']\n",
    "    preds = []\n",
    "    labels = []\n",
    "    img_names = []\n",
    "    for pair in model_l_p:\n",
    "        pred = pair[0].tolist()\n",
    "        label = pair[1].tolist()\n",
    "        img_name = pair[2]\n",
    "        preds.extend(pred)\n",
    "        labels.extend(label)\n",
    "        img_names.extend(img_name)\n",
    "    preds = np.asarray(preds)\n",
    "    labels = np.asarray(labels)\n",
    "    df = pd.DataFrame(np.asarray([preds, labels, img_names]).T, columns=['prediction', 'label', 'name'])\n",
    "\n",
    "    names = np.unique(df['name'])\n",
    "\n",
    "    file_pred = []\n",
    "    file_name = []\n",
    "    file_class = []\n",
    "\n",
    "    for name in names:\n",
    "        df_name = df[df['name'] == name]\n",
    "        counts = np.bincount(df_name.prediction)\n",
    "        file_pred.append(np.argmax(counts))\n",
    "        file_name.append(name)\n",
    "        counts = np.bincount(df_name.label)\n",
    "        file_class.append(np.argmax(counts))\n",
    "\n",
    "    file_pred = np.asarray(file_pred) \n",
    "    file_class = np.asarray(file_class)\n",
    "    cls_acc = {}\n",
    "    for i in range(9):\n",
    "        cls_acc[i] = np.sum(file_pred[file_class == i] == i) / np.sum(file_class == i)\n",
    "    return cls_acc, np.sum(file_pred == file_class) / len(file_class)"
   ]
  },
  {
   "cell_type": "code",
   "execution_count": null,
   "metadata": {},
   "outputs": [],
   "source": [
    "calc_agg_by_file_acc('inceptionv3')\n",
    "calc_agg_by_file_acc('alexnet')\n",
    "calc_agg_by_file_acc('resnet18')\n",
    "calc_agg_by_file_acc('resnet50')\n",
    "calc_agg_by_file_acc('densenet')"
   ]
  }
 ],
 "metadata": {
  "kernelspec": {
   "display_name": "Python 3",
   "language": "python",
   "name": "python3"
  },
  "language_info": {
   "codemirror_mode": {
    "name": "ipython",
    "version": 3
   },
   "file_extension": ".py",
   "mimetype": "text/x-python",
   "name": "python",
   "nbconvert_exporter": "python",
   "pygments_lexer": "ipython3",
   "version": "3.6.5"
  }
 },
 "nbformat": 4,
 "nbformat_minor": 1
}
