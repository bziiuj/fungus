{
 "cells": [
  {
   "cell_type": "code",
   "execution_count": 22,
   "metadata": {},
   "outputs": [
    {
     "name": "stdout",
     "output_type": "stream",
     "text": [
      "Collecting pandas\n",
      "\u001b[?25l  Downloading https://files.pythonhosted.org/packages/19/74/e50234bc82c553fecdbd566d8650801e3fe2d6d8c8d940638e3d8a7c5522/pandas-0.24.2-cp36-cp36m-manylinux1_x86_64.whl (10.1MB)\n",
      "\u001b[K     |################################| 10.1MB 1.2MB/s eta 0:00:01\n",
      "\u001b[?25hRequirement already satisfied: pytz>=2011k in /opt/conda/lib/python3.6/site-packages (from pandas) (2019.1)\n",
      "Requirement already satisfied: python-dateutil>=2.5.0 in /opt/conda/lib/python3.6/site-packages (from pandas) (2.8.0)\n",
      "Requirement already satisfied: numpy>=1.12.0 in /opt/conda/lib/python3.6/site-packages (from pandas) (1.16.3)\n",
      "Requirement already satisfied: six>=1.5 in /opt/conda/lib/python3.6/site-packages (from python-dateutil>=2.5.0->pandas) (1.12.0)\n",
      "Installing collected packages: pandas\n",
      "Successfully installed pandas-0.24.2\n"
     ]
    }
   ],
   "source": [
    "import numpy as np\n",
    "! pip install pandas\n",
    "import pandas as pd\n",
    "from scipy.stats import m"
   ]
  },
  {
   "cell_type": "code",
   "execution_count": 13,
   "metadata": {},
   "outputs": [],
   "source": [
    "def calc_class_acc(model):\n",
    "    npz = np.load('../../results/train_{}_pred_label.pkl.npz'.format(model), allow_pickle=True)\n",
    "    model_l_p = npz['pred_label']\n",
    "    preds = []\n",
    "    labels = []\n",
    "    for pair in model_l_p:\n",
    "        pred = pair[0].tolist()\n",
    "        label = pair[1].tolist()\n",
    "        preds.extend(pred)\n",
    "        labels.extend(label)\n",
    "    preds = np.asarray(preds)\n",
    "    labels = np.asarray(labels)\n",
    "    cls_acc = {}\n",
    "    for i in range(10):\n",
    "        cls_acc[i] = np.sum(preds[labels == i] == i) / np.sum(labels == i)\n",
    "    return cls_acc"
   ]
  },
  {
   "cell_type": "code",
   "execution_count": 20,
   "metadata": {},
   "outputs": [
    {
     "name": "stdout",
     "output_type": "stream",
     "text": [
      "{0: 0.0, 1: 0.02857142857142857, 2: 0.8571428571428571, 3: 0.9047619047619048, 4: 0.9714285714285714, 5: 0.5571428571428572, 6: 0.0, 7: 0.7142857142857143, 8: 0.12857142857142856, 9: 0.9616858237547893}\n"
     ]
    }
   ],
   "source": [
    "print(calc_class_acc('inceptionv3'))"
   ]
  },
  {
   "cell_type": "code",
   "execution_count": 8,
   "metadata": {},
   "outputs": [],
   "source": [
    "def calc_agg_acc(model):\n",
    "    npz = np.load('../../results/train_{}_pred_label.pkl.npz'.format(model), allow_pickle=True)\n",
    "    model_l_p = npz['pred_label']\n",
    "    preds = []\n",
    "    labels = []\n",
    "    for pair in model_l_p:\n",
    "        pred = pair[0].tolist()\n",
    "        label = pair[1].tolist()\n",
    "        img_name = pair[2].toList()\n",
    "        preds.extend(pred)\n",
    "        labels.extend(label)\n",
    "        img_names.extend(img_name)\n",
    "    preds = np.asarray(preds)\n",
    "    labels = np.asarray(labels)\n",
    "    cls_acc = {}\n",
    "    for i in range(10):\n",
    "        cls_acc[i] = np.sum(preds[labels == i] == i) / np.sum(labels == i)\n",
    "    return cls_acc"
   ]
  },
  {
   "cell_type": "code",
   "execution_count": 69,
   "metadata": {},
   "outputs": [],
   "source": [
    "def calc_agg_by_file_acc(model):\n",
    "    npz = np.load('../../results/train_{}_pred_label.pkl.npz'.format(model), allow_pickle=True)\n",
    "    model_l_p = npz['pred_label']\n",
    "    preds = []\n",
    "    labels = []\n",
    "    img_names = []\n",
    "    for pair in model_l_p:\n",
    "        pred = pair[0].tolist()\n",
    "        label = pair[1].tolist()\n",
    "        img_name = pair[2]\n",
    "        preds.extend(pred)\n",
    "        labels.extend(label)\n",
    "        img_names.extend(img_name)\n",
    "    preds = np.asarray(preds)\n",
    "    labels = np.asarray(labels)\n",
    "    df = pd.DataFrame(np.asarray([preds, labels, img_names]).T, columns=['prediction', 'label', 'name'])\n",
    "\n",
    "    names = np.unique(df['name'])\n",
    "\n",
    "    file_pred = []\n",
    "    file_name = []\n",
    "    file_class = []\n",
    "\n",
    "    for name in names:\n",
    "        df_name = df[df['name'] == name]\n",
    "        counts = np.bincount(df_name.prediction)\n",
    "        file_pred.append(np.argmax(counts))\n",
    "        file_name.append(name)\n",
    "        counts = np.bincount(df_name.label)\n",
    "        file_class.append(np.argmax(counts))\n",
    "\n",
    "    file_pred = np.asarray(file_pred) \n",
    "    file_class = np.asarray(file_class)\n",
    "    cls_acc = {}\n",
    "    for i in range(9):\n",
    "        cls_acc[i] = np.sum(file_pred[file_class == i] == i) / np.sum(file_class == i)\n",
    "    return cls_acc, np.sum(file_pred == file_class) / len(file_class)"
   ]
  },
  {
   "cell_type": "code",
   "execution_count": 75,
   "metadata": {},
   "outputs": [
    {
     "data": {
      "text/plain": [
       "({0: 0.0, 1: 0.0, 2: 0.8, 3: 1.0, 4: 1.0, 5: 0.7, 6: 0.0, 7: 0.8, 8: 0.0},\n",
       " 0.4482758620689655)"
      ]
     },
     "execution_count": 75,
     "metadata": {},
     "output_type": "execute_result"
    }
   ],
   "source": [
    "calc_agg_by_file_acc('inceptionv3')"
   ]
  }
 ],
 "metadata": {
  "kernelspec": {
   "display_name": "Python 3",
   "language": "python",
   "name": "python3"
  },
  "language_info": {
   "codemirror_mode": {
    "name": "ipython",
    "version": 3
   },
   "file_extension": ".py",
   "mimetype": "text/x-python",
   "name": "python",
   "nbconvert_exporter": "python",
   "pygments_lexer": "ipython3",
   "version": "3.6.8"
  }
 },
 "nbformat": 4,
 "nbformat_minor": 1
}
